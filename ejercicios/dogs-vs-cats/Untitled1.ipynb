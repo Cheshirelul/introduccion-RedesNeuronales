{
 "cells": [
  {
   "cell_type": "code",
   "execution_count": 3,
   "metadata": {},
   "outputs": [],
   "source": [
    "import os\n",
    "#sakdlasjldñajsdaj \n",
    "os.environ['HDF5_DISABLE_VERSION_CHECK']='2'"
   ]
  },
  {
   "cell_type": "markdown",
   "metadata": {},
   "source": [
    "dkñakdñkasdm\n",
    "dñlaksñdkasñd\n",
    "dasmdkla"
   ]
  },
  {
   "cell_type": "markdown",
   "metadata": {},
   "source": [
    "imagen"
   ]
  },
  {
   "cell_type": "code",
   "execution_count": 4,
   "metadata": {},
   "outputs": [],
   "source": [
    "import os\n",
    "#sakdlasjldñajsdaj \n",
    "os.environ['HDF5_DISABLE_VERSION_CHECK']='2'"
   ]
  },
  {
   "cell_type": "markdown",
   "metadata": {},
   "source": [
    "imagen2"
   ]
  }
 ],
 "metadata": {
  "kernelspec": {
   "display_name": "Python 3",
   "language": "python",
   "name": "python3"
  },
  "language_info": {
   "codemirror_mode": {
    "name": "ipython",
    "version": 3
   },
   "file_extension": ".py",
   "mimetype": "text/x-python",
   "name": "python",
   "nbconvert_exporter": "python",
   "pygments_lexer": "ipython3",
   "version": "3.6.7"
  }
 },
 "nbformat": 4,
 "nbformat_minor": 4
}
