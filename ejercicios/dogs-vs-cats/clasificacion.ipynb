{
 "cells": [
  {
   "cell_type": "markdown",
   "metadata": {},
   "source": [
    "# Clasificacion de perros y gatos"
   ]
  },
  {
   "cell_type": "markdown",
   "metadata": {},
   "source": [
    "Para esto vamos a hacer uso del data-set de Kaggle el cual se puede encontrar en el siguiente enlace [dogs vs cats] (https://www.kaggle.com/c/dogs-vs-cats/)"
   ]
  },
  {
   "cell_type": "markdown",
   "metadata": {},
   "source": [
    "## Primer proouesta de modelo."
   ]
  },
  {
   "cell_type": "code",
   "execution_count": 1,
   "metadata": {},
   "outputs": [
    {
     "name": "stderr",
     "output_type": "stream",
     "text": [
      "c:\\users\\laloh\\anaconda3\\envs\\kerasgpu\\lib\\site-packages\\h5py\\__init__.py:36: FutureWarning: Conversion of the second argument of issubdtype from `float` to `np.floating` is deprecated. In future, it will be treated as `np.float64 == np.dtype(float).type`.\n",
      "  from ._conv import register_converters as _register_converters\n",
      "c:\\users\\laloh\\anaconda3\\envs\\kerasgpu\\lib\\site-packages\\h5py\\__init__.py:68: UserWarning: h5py is running against HDF5 1.10.5 when it was built against 1.10.1, this may cause problems\n",
      "  '{0}.{1}.{2}'.format(*version.hdf5_built_version_tuple)\n",
      "Using TensorFlow backend.\n"
     ]
    }
   ],
   "source": [
    "# load dogs vs cats dataset, reshape and save to a new file\n",
    "#from os import listdir\n",
    "import os\n",
    "# En este caso como se esta usando tensorflow GPU yo tengo que desactivar la revisión de HDF5, para que pueda continuar usandolo con normalidad, este paso puede omitirse si carga la libreria sin error o  se esta usando google colab o tensorflow normal.\n",
    "os.environ['HDF5_DISABLE_VERSION_CHECK']='2'\n",
    "from numpy import asarray\n",
    "from numpy import save\n",
    "from keras.preprocessing.image import load_img\n",
    "from keras.preprocessing.image import img_to_array\n",
    "\n",
    "#things that missing\n",
    "import random\n",
    "# define location of dataset"
   ]
  },
  {
   "cell_type": "markdown",
   "metadata": {},
   "source": [
    "### Cargar directorios de dataset"
   ]
  },
  {
   "cell_type": "markdown",
   "metadata": {},
   "source": [
    "Realmente este punto se puede omitir, es unciamente para probar el dataset y como trabajarlo para almacenarlo en numpy, este proceso puede tomar un largo tiempo en terminar la ejecución o aproximadamente 20 min. si se usa tensorflowGPU con una nvidia 1050(o su equivalente) en adelante"
   ]
  },
  {
   "cell_type": "code",
   "execution_count": 29,
   "metadata": {},
   "outputs": [],
   "source": [
    "#Libreria para desactivar los mensajes de warning.\n",
    "import warnings\n",
    "warnings.filterwarnings('ignore')"
   ]
  },
  {
   "cell_type": "code",
   "execution_count": 15,
   "metadata": {},
   "outputs": [],
   "source": [
    "# define location of dataset\n",
    "folder = 'train/'\n",
    "photos, labels = list(), list()"
   ]
  },
  {
   "cell_type": "code",
   "execution_count": 3,
   "metadata": {},
   "outputs": [
    {
     "name": "stdout",
     "output_type": "stream",
     "text": [
      "(25000, 200, 200, 3) (25000,)\n"
     ]
    }
   ],
   "source": [
    "# enumerate files in the directory\n",
    "for file in listdir(folder):\n",
    "\t# determine class\n",
    "\toutput = 0.0\n",
    "\tif file.startswith('cat'):\n",
    "\t\toutput = 1.0\n",
    "\t# load image\n",
    "\tphoto = load_img(folder + file, target_size=(200, 200))\n",
    "\t# convert to numpy array\n",
    "\tphoto = img_to_array(photo)\n",
    "\t# store\n",
    "\tphotos.append(photo)\n",
    "\tlabels.append(output)\n",
    "# convert to a numpy arrays\n",
    "photos = asarray(photos)\n",
    "labels = asarray(labels)\n",
    "print(photos.shape, labels.shape)\n",
    "# save the reshaped photos\n",
    "save('dogs_vs_cats_photos.npy', photos)\n",
    "save('dogs_vs_cats_labels.npy', labels)"
   ]
  },
  {
   "cell_type": "code",
   "execution_count": 1,
   "metadata": {},
   "outputs": [
    {
     "name": "stdout",
     "output_type": "stream",
     "text": [
      "(25000, 200, 200, 3) (25000,)\n"
     ]
    }
   ],
   "source": [
    "# load and confirm the shape\n",
    "from numpy import load\n",
    "photos = load('dogs_vs_cats_photos.npy')\n",
    "labels = load('dogs_vs_cats_labels.npy')\n",
    "print(photos.shape, labels.shape)"
   ]
  },
  {
   "cell_type": "code",
   "execution_count": 12,
   "metadata": {},
   "outputs": [],
   "source": [
    "# create directories\n",
    "dataset_home = 'dataset_dogs_vs_cats/'\n",
    "subdirs = ['train/', 'test/']\n",
    "for subdir in subdirs:\n",
    "    # create label subdirectories\n",
    "    labeldirs = ['dogs/', 'cats/']\n",
    "    for labldir in labeldirs:\n",
    "        newdir = dataset_home + subdir + labldir\n",
    "        os.makedirs(newdir, exist_ok=True)"
   ]
  },
  {
   "cell_type": "code",
   "execution_count": 21,
   "metadata": {},
   "outputs": [],
   "source": [
    "import shutil\n",
    "# seed random number generator\n",
    "random.seed(1)\n",
    "# define ratio of pictures to use for validation\n",
    "val_ratio = 0.25\n",
    "# copy training dataset images into subdirectories\n",
    "src_directory = 'train/'\n",
    "for file in listdir(src_directory):\n",
    "    src = src_directory + '/' + file\n",
    "    dst_dir = 'train/'\n",
    "    if random.random() < val_ratio:\n",
    "        dst_dir = 'test/'\n",
    "    if file.startswith('cat'):\n",
    "        dst = dataset_home + dst_dir + 'cats/'  + file\n",
    "        shutil.copyfile(src, dst)\n",
    "    elif file.startswith('dog'):\n",
    "        dst = dataset_home + dst_dir + 'dogs/'  + file\n",
    "        shutil.copyfile(src, dst)"
   ]
  },
  {
   "cell_type": "markdown",
   "metadata": {},
   "source": [
    "## Modelo base de CNN(Red neuronal convolucional)"
   ]
  },
  {
   "cell_type": "code",
   "execution_count": 19,
   "metadata": {},
   "outputs": [],
   "source": [
    "# baseline model for the dogs vs cats dataset\n",
    "import sys\n",
    "from matplotlib import pyplot\n",
    "from keras.utils import to_categorical\n",
    "from keras.models import Sequential\n",
    "from keras.layers import Conv2D\n",
    "from keras.layers import MaxPooling2D\n",
    "from keras.layers import Dense\n",
    "from keras.layers import Flatten\n",
    "from keras.optimizers import SGD\n",
    "from keras.preprocessing.image import ImageDataGenerator"
   ]
  },
  {
   "cell_type": "markdown",
   "metadata": {},
   "source": [
    "### Definir modelo cnn"
   ]
  },
  {
   "cell_type": "markdown",
   "metadata": {},
   "source": [
    "El siguiente es un modelo simple o al menos no tan complejo, cuenta con una capa convolucional 2d con funcion de activación relu\n",
    "\n",
    "#### Padding\n",
    "\n",
    "En nuestra red convolucional usamos un padding = same, en este caso 'same padding' significa que el tamaño de salida de *feature-map* sera la misma entrada de *feature-maps* (suponiendo que, stride=1).  Por ejemplo, si nuestra entrada es nin canales con *feature-maps* de tamaño de 28×28, despues en la salida se espera obtener nout caracteristicas de mapa cada una con tamaño de  28x28 tambien.\n",
    "\n",
    "#### Input shape\n",
    "\n",
    "En este caso vamos a redimencionar nuestras imagenes a 200 x 200 pixeles, nuestro *input_shape* ademas va a contener los 3 canales de nuestra imagen (RGB)\n",
    "\n"
   ]
  },
  {
   "cell_type": "code",
   "execution_count": 1,
   "metadata": {},
   "outputs": [],
   "source": [
    "\n",
    "#este es el primer modelo, pero se va a cambiar, ya se hicieron pruebas sobre el dando como resultado 72.902 % de presicion\n",
    "#Ahora se va a comentar\n",
    "\n",
    "\n",
    "\n",
    "def define_model():\n",
    "    model = Sequential()\n",
    "    model.add(Conv2D(32, (3, 3), activation='relu', kernel_initializer='he_uniform', padding='same', input_shape=(200, 200, 3)))\n",
    "    model.add(MaxPooling2D((2, 2)))\n",
    "    model.add(Flatten())\n",
    "    model.add(Dense(128, activation='relu', kernel_initializer='he_uniform'))\n",
    "    model.add(Dense(1, activation='sigmoid'))\n",
    "    # compile model\n",
    "    opt = SGD(lr=0.001, momentum=0.9)\n",
    "    model.compile(optimizer=opt, loss='binary_crossentropy', metrics=['accuracy'])\n",
    "    return model\n",
    "\n"
   ]
  },
  {
   "cell_type": "markdown",
   "metadata": {},
   "source": [
    "### plots\n",
    "Vamos a graficar las curvas de aprendizaje haciendo uso de pyplot, de color naranja vamos a graficar la aprte de entrenamiento y de naranja la parte de test, tanto para perdida como para exactitud, para posteriormente guardar el archivo en formato png"
   ]
  },
  {
   "cell_type": "code",
   "execution_count": 21,
   "metadata": {},
   "outputs": [],
   "source": [
    "# plot diagnostic learning curves\n",
    "def summarize_diagnostics(history):\n",
    "    # plot loss\n",
    "    pyplot.subplot(211)\n",
    "    pyplot.title('Cross Entropy Loss')\n",
    "    pyplot.plot(history.history['loss'], color='blue', label='train')\n",
    "    pyplot.plot(history.history['val_loss'], color='orange', label='test')\n",
    "    # plot accuracy\n",
    "    pyplot.subplot(212)\n",
    "    pyplot.title('Classification Accuracy')\n",
    "    pyplot.plot(history.history['accuracy'], color='blue', label='train')\n",
    "    pyplot.plot(history.history['val_accuracy'], color='orange', label='test')\n",
    "    # save plot to file\n",
    "    filename = sys.argv[0].split('/')[-1]\n",
    "    pyplot.savefig(filename + '_plot.png')\n",
    "    pyplot.savefig('Primer modelo-plot.png')\n",
    "    pyplot.close()"
   ]
  },
  {
   "cell_type": "markdown",
   "metadata": {},
   "source": [
    "### class mode\n",
    "\n",
    "***flow_from_directory()***: Toma el *path* hacia el directorio y genera lotes de datos aumentados.\n",
    "\n",
    "Si *class_mode* es \"*binary*\" o \"*sparse*\" deberia incluir la y_col dada y valores de la clase como strings.\n",
    "y_col: string o lista, columna/s en el dataframe that que tiene los datos objetivo.\n",
    "\n",
    "**class_mode**: se puede ocupar una de las siguientes categorias: \"binary\", \"categorical\", \"input\", \"multi_output\", \"raw\", sparse\" o None. Por defecto: \"categorical\".\n",
    "\n",
    "**\"binary\"**: arreglo 1D de numpy que contiene las etiquetas binarias.\n",
    "\n",
    "**target_size**: Es las dimensiones a las que vamos a transformar nuestras imagenes.\n",
    "\n",
    "**batch_size**: Tamaño de los lotes de los datos.\n",
    "\n",
    "\n",
    "**fit_generator**: Entrena el modelo con los datos generados lote pot lote por un generador de python (o un ejemplo de *Sequence*). El generador se esta ejecutando en paralelo con el modelo, esto es por eficiencia. Por ejemplo, esto te permite hacer en tiempo real el aumento de datos sobre las imagenes en el CPU y en paralelo se entrena el modelo en la GPU.\n",
    "\n",
    "**ImageDataGenerator**: Genera lotes de tensores con datos de imagenes con datos aumentados en tiempo real. The data will be enroolados (en lotes)."
   ]
  },
  {
   "cell_type": "code",
   "execution_count": 22,
   "metadata": {},
   "outputs": [],
   "source": [
    "# run the test harness for evaluating a model\n",
    "def run_test_harness():\n",
    "    # define model\n",
    "    model = define_model()\n",
    "    # create data generator\n",
    "    datagen = ImageDataGenerator(rescale=1.0/255.0)\n",
    "    # prepare iterators\n",
    "    train_it = datagen.flow_from_directory('dataset_dogs_vs_cats/train/',\n",
    "        class_mode='binary', batch_size=64, target_size=(200, 200))\n",
    "    test_it = datagen.flow_from_directory('dataset_dogs_vs_cats/test/',\n",
    "        class_mode='binary', batch_size=64, target_size=(200, 200))\n",
    "    # fit model\n",
    "    history = model.fit_generator(train_it, steps_per_epoch=len(train_it),\n",
    "        validation_data=test_it, validation_steps=len(test_it), epochs=20, verbose=0)\n",
    "    # evaluate model\n",
    "    _, acc = model.evaluate_generator(test_it, steps=len(test_it), verbose=0)\n",
    "    summarize_diagnostics(history)\n",
    "    print('> %.3f' % (acc * 100.0))\n",
    "    # learning curves\n",
    "    summarize_diagnostics(history)\n",
    "    #print(\"the summarize passed\")\n",
    "    #Se supone aqui imprime sus desmadre\n",
    "\n"
   ]
  },
  {
   "cell_type": "markdown",
   "metadata": {},
   "source": [
    "## Resultado de la primera prueba"
   ]
  },
  {
   "cell_type": "code",
   "execution_count": 7,
   "metadata": {},
   "outputs": [
    {
     "name": "stdout",
     "output_type": "stream",
     "text": [
      "Found 18697 images belonging to 2 classes.\n",
      "Found 6303 images belonging to 2 classes.\n",
      "> 67.143\n"
     ]
    }
   ],
   "source": [
    "# entry point, run the test harness\n",
    "run_test_harness()"
   ]
  },
  {
   "cell_type": "markdown",
   "metadata": {},
   "source": [
    "### Segunda ejecución, modificando el modelo."
   ]
  },
  {
   "cell_type": "markdown",
   "metadata": {},
   "source": [
    "Al modelo anterior le hemos agregado una capa convolucional más asi como un MaxPooling2D adicional."
   ]
  },
  {
   "cell_type": "code",
   "execution_count": 4,
   "metadata": {},
   "outputs": [],
   "source": [
    "\n",
    "def define_model():\n",
    "    model = Sequential()\n",
    "    model.add(Conv2D(32, (3, 3), activation='relu', kernel_initializer='he_uniform', padding='same', input_shape=(200, 200, 3)))\n",
    "    model.add(MaxPooling2D((2, 2)))\n",
    "    model.add(Conv2D(64, (3, 3), activation='relu', kernel_initializer='he_uniform', padding='same'))\n",
    "    model.add(MaxPooling2D((2, 2)))\n",
    "    model.add(Flatten())\n",
    "    model.add(Dense(128, activation='relu', kernel_initializer='he_uniform'))\n",
    "    model.add(Dense(1, activation='sigmoid'))\n",
    "    # compile model\n",
    "    opt = SGD(lr=0.001, momentum=0.9)\n",
    "    model.compile(optimizer=opt, loss='binary_crossentropy', metrics=['accuracy'])\n",
    "    return model"
   ]
  },
  {
   "cell_type": "code",
   "execution_count": 15,
   "metadata": {},
   "outputs": [
    {
     "name": "stdout",
     "output_type": "stream",
     "text": [
      "Found 18697 images belonging to 2 classes.\n",
      "Found 6303 images belonging to 2 classes.\n",
      "> 75.853\n"
     ]
    }
   ],
   "source": [
    "run_test_harness()"
   ]
  },
  {
   "cell_type": "markdown",
   "metadata": {},
   "source": [
    "### Probando con nuevo modelo"
   ]
  },
  {
   "cell_type": "markdown",
   "metadata": {},
   "source": [
    "Al igual que en lo anterior, se le agregara al modelo previo una capa de MaxPooling2D y una capa Convulucional 2D"
   ]
  },
  {
   "cell_type": "code",
   "execution_count": 20,
   "metadata": {},
   "outputs": [],
   "source": [
    "# define cnn model\n",
    "def define_model():\n",
    "    model = Sequential()\n",
    "    model.add(Conv2D(32, (3, 3), activation='relu', kernel_initializer='he_uniform', padding='same', input_shape=(200, 200, 3)))\n",
    "    model.add(MaxPooling2D((2, 2)))\n",
    "    model.add(Conv2D(64, (3, 3), activation='relu', kernel_initializer='he_uniform', padding='same'))\n",
    "    model.add(MaxPooling2D((2, 2)))\n",
    "    model.add(Conv2D(128, (3, 3), activation='relu', kernel_initializer='he_uniform', padding='same'))\n",
    "    model.add(MaxPooling2D((2, 2)))\n",
    "    model.add(Flatten())\n",
    "    model.add(Dense(128, activation='relu', kernel_initializer='he_uniform'))\n",
    "    model.add(Dense(1, activation='sigmoid'))\n",
    "    # compile model\n",
    "    opt = SGD(lr=0.001, momentum=0.9)\n",
    "    model.compile(optimizer=opt, loss='binary_crossentropy', metrics=['accuracy'])\n",
    "    return model"
   ]
  },
  {
   "cell_type": "code",
   "execution_count": 23,
   "metadata": {},
   "outputs": [
    {
     "name": "stdout",
     "output_type": "stream",
     "text": [
      "Found 18697 images belonging to 2 classes.\n",
      "Found 6303 images belonging to 2 classes.\n",
      "> 79.438\n"
     ]
    }
   ],
   "source": [
    "# entry point, run the test harness\n",
    "run_test_harness()"
   ]
  },
  {
   "cell_type": "markdown",
   "metadata": {},
   "source": [
    "## Mejoras en el modelo de CNN"
   ]
  },
  {
   "cell_type": "markdown",
   "metadata": {},
   "source": [
    "Se va a iniciar con 3 VGG blocks (i.e. VGG 3) y se explorara algunas mejoras simples para el modelo.\n",
    "\n",
    "Para evitar el overfitting (sobre entrenamiento) se va a hacer uso de dos tecnicas: \n",
    "- dropout regularization \n",
    "- data augmentation\n",
    "\n",
    "Se espera que ambos enfoques disminuyan la tasa de mejora durante el entrenamiento y, con suerte, contrarresten el sobreajuste del conjunto de datos de entrenamiento. Como tal, aumentaremos el número de épocas de entrenamiento de 20 a 50 para dar al modelo más espacio para el refinamiento."
   ]
  },
  {
   "cell_type": "markdown",
   "metadata": {},
   "source": [
    "### Dropout Regularization\n"
   ]
  },
  {
   "cell_type": "markdown",
   "metadata": {},
   "source": [
    "La regularización de Dropout es una forma computacionalmente barata de regularizar una red neuronal profunda.\n",
    "\n",
    "El abandono funciona eliminando probabilísticamente, o \"abandonando\", las entradas a una capa, que pueden ser variables de entrada en la muestra de datos o activaciones de una capa anterior. Tiene el efecto de simular una gran cantidad de redes con estructuras de red muy diferentes y, a su vez, hacer que los nodos en la red sean generalmente más robustos para las entradas.\n",
    "\n",
    "Para obtener más información sobre la deserción, consulte la publicación:\n",
    "\n",
    "[How to Reduce Overfitting With Dropout Regularization in Keras](https://machinelearningmastery.com/how-to-reduce-overfitting-with-dropout-regularization-in-keras/)\n",
    "\n",
    "Por lo general, se puede aplicar una pequeña cantidad de abandono después de cada bloque VGG, con más abandono aplicado a las capas completamente conectadas cerca de la capa de salida del modelo.\n",
    "\n",
    "A continuación se muestra la función define_model () para una versión actualizada del modelo de línea de base con la adición de Dropout. En este caso, se aplica un abandono del 20% después de cada bloque VGG, con una tasa de abandono mayor del 50% después de la capa completamente conectada en la parte del clasificador del modelo."
   ]
  },
  {
   "cell_type": "code",
   "execution_count": 2,
   "metadata": {},
   "outputs": [],
   "source": [
    "# baseline model with dropout for the dogs vs cats dataset\n",
    "import sys\n",
    "from matplotlib import pyplot\n",
    "from keras.utils import to_categorical\n",
    "from keras.models import Sequential\n",
    "from keras.layers import Conv2D\n",
    "from keras.layers import MaxPooling2D\n",
    "from keras.layers import Dense\n",
    "from keras.layers import Flatten\n",
    "from keras.layers import Dropout\n",
    "from keras.optimizers import SGD\n",
    "from keras.preprocessing.image import ImageDataGenerator"
   ]
  },
  {
   "cell_type": "code",
   "execution_count": 3,
   "metadata": {},
   "outputs": [],
   "source": [
    "# define cnn model\n",
    "def define_model():\n",
    "    model = Sequential()\n",
    "    model.add(Conv2D(32, (3, 3), activation='relu', kernel_initializer='he_uniform', padding='same', input_shape=(200, 200, 3)))\n",
    "    model.add(MaxPooling2D((2, 2)))\n",
    "    model.add(Dropout(0.2))\n",
    "    model.add(Conv2D(64, (3, 3), activation='relu', kernel_initializer='he_uniform', padding='same'))\n",
    "    model.add(MaxPooling2D((2, 2)))\n",
    "    model.add(Dropout(0.2))\n",
    "    model.add(Conv2D(128, (3, 3), activation='relu', kernel_initializer='he_uniform', padding='same'))\n",
    "    model.add(MaxPooling2D((2, 2)))\n",
    "    model.add(Dropout(0.2))\n",
    "    model.add(Flatten())\n",
    "    model.add(Dense(128, activation='relu', kernel_initializer='he_uniform'))\n",
    "    model.add(Dropout(0.5))\n",
    "    model.add(Dense(1, activation='sigmoid'))\n",
    "    # compile model\n",
    "    opt = SGD(lr=0.001, momentum=0.9)\n",
    "    model.compile(optimizer=opt, loss='binary_crossentropy', metrics=['accuracy'])\n",
    "    return model"
   ]
  },
  {
   "cell_type": "code",
   "execution_count": 4,
   "metadata": {},
   "outputs": [],
   "source": [
    "# plot diagnostic learning curves\n",
    "def summarize_diagnostics(history):\n",
    "    # plot loss\n",
    "    pyplot.subplot(211)\n",
    "    pyplot.title('Cross Entropy Loss')\n",
    "    pyplot.plot(history.history['loss'], color='blue', label='train')\n",
    "    pyplot.plot(history.history['val_loss'], color='orange', label='test')\n",
    "    # plot accuracy\n",
    "    pyplot.subplot(212)\n",
    "    pyplot.title('Classification Accuracy')\n",
    "    pyplot.plot(history.history['accuracy'], color='blue', label='train')\n",
    "    pyplot.plot(history.history['val_accuracy'], color='orange', label='test')\n",
    "    # save plot to file\n",
    "    filename = sys.argv[0].split('/')[-1]\n",
    "    pyplot.savefig(filename + '_plot.png')\n",
    "    pyplot.savefig('Dropout Regularizatio-plot.png')\n",
    "    pyplot.close()"
   ]
  },
  {
   "cell_type": "code",
   "execution_count": 5,
   "metadata": {},
   "outputs": [],
   "source": [
    "# run the test harness for evaluating a model\n",
    "def run_test_harness():\n",
    "    # define model\n",
    "    model = define_model()\n",
    "    # create data generator\n",
    "    datagen = ImageDataGenerator(rescale=1.0/255.0)\n",
    "    # prepare iterator\n",
    "    train_it = datagen.flow_from_directory('dataset_dogs_vs_cats/train/',\n",
    "        class_mode='binary', batch_size=64, target_size=(200, 200))\n",
    "    test_it = datagen.flow_from_directory('dataset_dogs_vs_cats/test/',\n",
    "        class_mode='binary', batch_size=64, target_size=(200, 200))\n",
    "    # fit model\n",
    "    history = model.fit_generator(train_it, steps_per_epoch=len(train_it),\n",
    "        validation_data=test_it, validation_steps=len(test_it), epochs=50, verbose=0)\n",
    "    # evaluate model\n",
    "    _, acc = model.evaluate_generator(test_it, steps=len(test_it), verbose=0)\n",
    "    print('> %.3f' % (acc * 100.0))\n",
    "    # learning curves\n",
    "    summarize_diagnostics(history)"
   ]
  },
  {
   "cell_type": "code",
   "execution_count": 6,
   "metadata": {},
   "outputs": [
    {
     "name": "stdout",
     "output_type": "stream",
     "text": [
      "Found 18697 images belonging to 2 classes.\n",
      "Found 6303 images belonging to 2 classes.\n",
      "> 80.803\n"
     ]
    }
   ],
   "source": [
    "# entry point, run the test harness\n",
    "run_test_harness()"
   ]
  },
  {
   "cell_type": "markdown",
   "metadata": {},
   "source": [
    "<img src=\"addtionalImages/Dropout Regularizatio-plot.png\">"
   ]
  },
  {
   "cell_type": "markdown",
   "metadata": {},
   "source": [
    "### Prueba con Image Data Augmentation"
   ]
  },
  {
   "cell_type": "code",
   "execution_count": 2,
   "metadata": {},
   "outputs": [],
   "source": [
    "# modelo abse con data augmentation para el dataset dogs vs cats\n",
    "import sys\n",
    "from matplotlib import pyplot\n",
    "from keras.utils import to_categorical\n",
    "from keras.models import Sequential\n",
    "from keras.layers import Conv2D\n",
    "from keras.layers import MaxPooling2D\n",
    "from keras.layers import Dense\n",
    "from keras.layers import Flatten\n",
    "from keras.optimizers import SGD\n",
    "from keras.preprocessing.image import ImageDataGenerator"
   ]
  },
  {
   "cell_type": "code",
   "execution_count": 3,
   "metadata": {},
   "outputs": [],
   "source": [
    "# definir modelo cnn\n",
    "def define_model():\n",
    "    model = Sequential()\n",
    "    model.add(Conv2D(32, (3, 3), activation='relu', kernel_initializer='he_uniform', padding='same', input_shape=(200, 200, 3)))\n",
    "    model.add(MaxPooling2D((2, 2)))\n",
    "    model.add(Conv2D(64, (3, 3), activation='relu', kernel_initializer='he_uniform', padding='same'))\n",
    "    model.add(MaxPooling2D((2, 2)))\n",
    "    model.add(Conv2D(128, (3, 3), activation='relu', kernel_initializer='he_uniform', padding='same'))\n",
    "    model.add(MaxPooling2D((2, 2)))\n",
    "    model.add(Flatten())\n",
    "    model.add(Dense(128, activation='relu', kernel_initializer='he_uniform'))\n",
    "    model.add(Dense(1, activation='sigmoid'))\n",
    "    # compilar modelo\n",
    "    opt = SGD(lr=0.001, momentum=0.9)\n",
    "    model.compile(optimizer=opt, loss='binary_crossentropy', metrics=['accuracy'])\n",
    "    return model"
   ]
  },
  {
   "cell_type": "code",
   "execution_count": 4,
   "metadata": {},
   "outputs": [],
   "source": [
    "# grafica de curva de aprendizaje\n",
    "def summarize_diagnostics(history):\n",
    "    # plot loss\n",
    "    pyplot.subplot(211)\n",
    "    pyplot.title('Cross Entropy Loss')\n",
    "    pyplot.plot(history.history['loss'], color='blue', label='train')\n",
    "    pyplot.plot(history.history['val_loss'], color='orange', label='test')\n",
    "    # grafica de precision\n",
    "    pyplot.subplot(212)\n",
    "    pyplot.title('Classification Accuracy')\n",
    "    pyplot.plot(history.history['accuracy'], color='blue', label='train')\n",
    "    pyplot.plot(history.history['val_accuracy'], color='orange', label='test')\n",
    "    # guardar grafica a un archivo\n",
    "    filename = sys.argv[0].split('/')[-1]\n",
    "    pyplot.savefig(filename + '_plot.png')\n",
    "    pyplot.savefig('modelo con ImageData-Augmentation-plot.png')\n",
    "    pyplot.close()"
   ]
  },
  {
   "cell_type": "code",
   "execution_count": 5,
   "metadata": {},
   "outputs": [],
   "source": [
    "def plotSumm(history):\n",
    "    history_dict = history.history\n",
    "    history_dict.keys()\n",
    "    print(history.history)\n",
    "    acc = history.history['accuracy']\n",
    "    val_acc = history.history['val_accuracy']\n",
    "    loss = history.history['loss']\n",
    "    val_loss = history.history['val_loss']\n",
    "\n",
    "    epochs = range(1, len(acc)+1)\n",
    "\n",
    "    # figure\n",
    "    pyplot.figure(figsize=(10,5))\n",
    "    pyplot.subplot(1,2,1)\n",
    "    pyplot.plot(epochs, loss, 'b', label='Training loss')\n",
    "    pyplot.plot(epochs, val_loss, 'g', label='Validation loss')\n",
    "    pyplot.title('Training and validation loss')\n",
    "    pyplot.xlabel('Epochs')\n",
    "    pyplot.ylabel('Loss')\n",
    "    pyplot.legend()\n",
    "    pyplot.subplot(1,2,2)\n",
    "    pyplot.plot(epochs, acc, 'r', label='Training accuracy')\n",
    "    pyplot.plot(epochs, val_acc, 'g', label='Validation accuracy')\n",
    "    pyplot.title('Training and validation accuracy')\n",
    "    pyplot.xlabel('Epochs')\n",
    "    pyplot.ylabel('Accuracy')\n",
    "    pyplot.legend()\n",
    "    pyplot.show()"
   ]
  },
  {
   "cell_type": "code",
   "execution_count": 6,
   "metadata": {},
   "outputs": [],
   "source": [
    "# ejecutar la prueba para el modelo\n",
    "def run_test_harness():\n",
    "    # define model\n",
    "    model = define_model()\n",
    "    # crear generadores de datos\n",
    "    train_datagen = ImageDataGenerator(rescale=1.0/255.0,\n",
    "        width_shift_range=0.1, height_shift_range=0.1, horizontal_flip=True)\n",
    "    test_datagen = ImageDataGenerator(rescale=1.0/255.0)\n",
    "    # preparar iteradores\n",
    "    train_it = train_datagen.flow_from_directory('dataset_dogs_vs_cats/train/',\n",
    "        class_mode='binary', batch_size=64, target_size=(200, 200))\n",
    "    test_it = test_datagen.flow_from_directory('dataset_dogs_vs_cats/test/',\n",
    "        class_mode='binary', batch_size=64, target_size=(200, 200))\n",
    "    # entrenar modelo\n",
    "    history = model.fit_generator(train_it, steps_per_epoch=len(train_it),\n",
    "        validation_data=test_it, validation_steps=len(test_it), epochs=50, verbose=0)\n",
    "    # evaluar modelo\n",
    "    _, acc = model.evaluate_generator(test_it, steps=len(test_it), verbose=0)\n",
    "    print('> %.3f' % (acc * 100.0))\n",
    "    # curvas de aprendizaje\n",
    "    summarize_diagnostics(history)\n",
    "    plotSum(history)\n",
    "    model.save('data augmentation_model.h5')"
   ]
  },
  {
   "cell_type": "code",
   "execution_count": 7,
   "metadata": {},
   "outputs": [
    {
     "name": "stdout",
     "output_type": "stream",
     "text": [
      "Found 18697 images belonging to 2 classes.\n",
      "Found 6303 images belonging to 2 classes.\n",
      "> 85.832\n"
     ]
    },
    {
     "ename": "NameError",
     "evalue": "name 'plotSum' is not defined",
     "output_type": "error",
     "traceback": [
      "\u001b[1;31m---------------------------------------------------------------------------\u001b[0m",
      "\u001b[1;31mNameError\u001b[0m                                 Traceback (most recent call last)",
      "\u001b[1;32m<ipython-input-7-8f7451fe575f>\u001b[0m in \u001b[0;36m<module>\u001b[1;34m\u001b[0m\n\u001b[0;32m      1\u001b[0m \u001b[1;31m# ejecutar la prueba compelta\u001b[0m\u001b[1;33m\u001b[0m\u001b[1;33m\u001b[0m\u001b[1;33m\u001b[0m\u001b[0m\n\u001b[1;32m----> 2\u001b[1;33m \u001b[0mrun_test_harness\u001b[0m\u001b[1;33m(\u001b[0m\u001b[1;33m)\u001b[0m\u001b[1;33m\u001b[0m\u001b[1;33m\u001b[0m\u001b[0m\n\u001b[0m",
      "\u001b[1;32m<ipython-input-6-e1d8d3f71c29>\u001b[0m in \u001b[0;36mrun_test_harness\u001b[1;34m()\u001b[0m\n\u001b[0;32m     20\u001b[0m     \u001b[1;31m# curvas de aprendizaje\u001b[0m\u001b[1;33m\u001b[0m\u001b[1;33m\u001b[0m\u001b[1;33m\u001b[0m\u001b[0m\n\u001b[0;32m     21\u001b[0m     \u001b[0msummarize_diagnostics\u001b[0m\u001b[1;33m(\u001b[0m\u001b[0mhistory\u001b[0m\u001b[1;33m)\u001b[0m\u001b[1;33m\u001b[0m\u001b[1;33m\u001b[0m\u001b[0m\n\u001b[1;32m---> 22\u001b[1;33m     \u001b[0mplotSum\u001b[0m\u001b[1;33m(\u001b[0m\u001b[0mhistory\u001b[0m\u001b[1;33m)\u001b[0m\u001b[1;33m\u001b[0m\u001b[1;33m\u001b[0m\u001b[0m\n\u001b[0m\u001b[0;32m     23\u001b[0m     \u001b[0mmodel\u001b[0m\u001b[1;33m.\u001b[0m\u001b[0msave\u001b[0m\u001b[1;33m(\u001b[0m\u001b[1;34m'data augmentation_model.h5'\u001b[0m\u001b[1;33m)\u001b[0m\u001b[1;33m\u001b[0m\u001b[1;33m\u001b[0m\u001b[0m\n",
      "\u001b[1;31mNameError\u001b[0m: name 'plotSum' is not defined"
     ]
    }
   ],
   "source": [
    "# ejecutar la prueba compelta\n",
    "run_test_harness()"
   ]
  },
  {
   "cell_type": "markdown",
   "metadata": {},
   "source": [
    "<img src=\"addtionalImages/modelo con ImageData-Augmentation-plot.png\">"
   ]
  },
  {
   "cell_type": "markdown",
   "metadata": {},
   "source": [
    "## Modelo con Transfer Learning"
   ]
  },
  {
   "cell_type": "code",
   "execution_count": 2,
   "metadata": {},
   "outputs": [],
   "source": [
    "# vgg16 modelo usado para \"transfer learning\" sobre el dataset de dogs and cats\n",
    "import sys\n",
    "from matplotlib import pyplot\n",
    "from keras.utils import to_categorical\n",
    "from keras.applications.vgg16 import VGG16\n",
    "from keras.models import Model\n",
    "from keras.layers import Dense\n",
    "from keras.layers import Flatten\n",
    "from keras.optimizers import SGD\n",
    "from keras.preprocessing.image import ImageDataGenerator"
   ]
  },
  {
   "cell_type": "code",
   "execution_count": 3,
   "metadata": {},
   "outputs": [],
   "source": [
    "# definir el modelo cnn\n",
    "def define_model():\n",
    "    # cargar el modelo\n",
    "    model = VGG16(include_top=False, input_shape=(224, 224, 3))\n",
    "    # marcar capas cargadas como no entrenables\n",
    "    for layer in model.layers:\n",
    "        layer.trainable = False\n",
    "    # agregar nuevas capas de clasificación\n",
    "    flat1 = Flatten()(model.layers[-1].output)\n",
    "    class1 = Dense(128, activation='relu', kernel_initializer='he_uniform')(flat1)\n",
    "    output = Dense(1, activation='sigmoid')(class1)\n",
    "    # definir nuevo modelo\n",
    "    model = Model(inputs=model.inputs, outputs=output)\n",
    "    # compilar modelo\n",
    "    opt = SGD(lr=0.001, momentum=0.9)\n",
    "    model.compile(optimizer='adam', loss='binary_crossentropy', metrics=['accuracy'])\n",
    "    return model"
   ]
  },
  {
   "cell_type": "code",
   "execution_count": 4,
   "metadata": {},
   "outputs": [],
   "source": [
    "# grafica de diagnostico de curvas de aprendizaje (learning curves)\n",
    "def summarize_diagnostics(history):\n",
    "    # grafica de perdida\n",
    "    pyplot.subplot(211)\n",
    "    pyplot.title('Cross Entropy Loss')\n",
    "    pyplot.plot(history.history['loss'], color='blue', label='train')\n",
    "    pyplot.plot(history.history['val_loss'], color='orange', label='test')\n",
    "    # gráfica de precisión\n",
    "    pyplot.subplot(212)\n",
    "    pyplot.title('Classification Accuracy')\n",
    "    pyplot.plot(history.history['accuracy'], color='blue', label='train')\n",
    "    pyplot.plot(history.history['val_accuracy'], color='orange', label='test')\n",
    "    # Guardar la gráfica en un archivo\n",
    "    filename = sys.argv[0].split('/')[-1]\n",
    "    pyplot.savefig(filename + '_plot.png')\n",
    "    pyplot.savefig('modelo final con vgg16-plot.png')\n",
    "    pyplot.close()"
   ]
  },
  {
   "cell_type": "code",
   "execution_count": 5,
   "metadata": {},
   "outputs": [],
   "source": [
    "def plotSumm(history):\n",
    "    history_dict = history.history\n",
    "    history_dict.keys()\n",
    "    print(history.history)\n",
    "    acc = history.history['accuracy']\n",
    "    val_acc = history.history['val_accuracy']\n",
    "    loss = history.history['loss']\n",
    "    val_loss = history.history['val_loss']\n",
    "\n",
    "    epochs = range(1, len(acc)+1)\n",
    "\n",
    "    # figure\n",
    "    pyplot.figure(figsize=(10,5))\n",
    "    pyplot.subplot(1,2,1)\n",
    "    pyplot.plot(epochs, loss, 'b', label='Training loss')\n",
    "    pyplot.plot(epochs, val_loss, 'g', label='Validation loss')\n",
    "    pyplot.title('Training and validation loss')\n",
    "    pyplot.xlabel('Epochs')\n",
    "    pyplot.ylabel('Loss')\n",
    "    pyplot.legend()\n",
    "    pyplot.subplot(1,2,2)\n",
    "    pyplot.plot(epochs, acc, 'r', label='Training accuracy')\n",
    "    pyplot.plot(epochs, val_acc, 'g', label='Validation accuracy')\n",
    "    pyplot.title('Training and validation accuracy')\n",
    "    pyplot.xlabel('Epochs')\n",
    "    pyplot.ylabel('Accuracy')\n",
    "    pyplot.legend()\n",
    "    pyplot.show()"
   ]
  },
  {
   "cell_type": "code",
   "execution_count": 6,
   "metadata": {},
   "outputs": [],
   "source": [
    "# ejecutar la prueba para evaluar el modelo\n",
    "def run_test_harness():\n",
    "    # definir modelo\n",
    "    model = define_model()\n",
    "    # crear generador de datos\n",
    "    datagen = ImageDataGenerator(featurewise_center=True)\n",
    "    # especificar valores medios de imagenet para centrar\n",
    "    datagen.mean = [123.68, 116.779, 103.939]\n",
    "    # preparar el iterador\n",
    "    train_it = datagen.flow_from_directory('dataset_dogs_vs_cats/train/',\n",
    "        class_mode='binary', batch_size=64, target_size=(224, 224))\n",
    "    test_it = datagen.flow_from_directory('dataset_dogs_vs_cats/test/',\n",
    "        class_mode='binary', batch_size=64, target_size=(224, 224))\n",
    "    # entrenar modelo\n",
    "    history = model.fit_generator(train_it, steps_per_epoch=len(train_it),\n",
    "        validation_data=test_it, validation_steps=len(test_it), epochs=10, verbose=1)\n",
    "    # evaluar modelo\n",
    "    _, acc = model.evaluate_generator(test_it, steps=len(test_it), verbose=0)\n",
    "    print('> %.3f' % (acc * 100.0))\n",
    "    # curvas de aprendizaje\n",
    "    summarize_diagnostics(history)\n",
    "    plotSumm(history)"
   ]
  },
  {
   "cell_type": "code",
   "execution_count": 7,
   "metadata": {},
   "outputs": [
    {
     "name": "stdout",
     "output_type": "stream",
     "text": [
      "Found 18697 images belonging to 2 classes.\n",
      "Found 6303 images belonging to 2 classes.\n",
      "Epoch 1/10\n",
      "293/293 [==============================] - 576s 2s/step - loss: 0.2994 - accuracy: 0.9643 - val_loss: 0.0818 - val_accuracy: 0.9754\n",
      "Epoch 2/10\n",
      "293/293 [==============================] - 263s 899ms/step - loss: 0.0250 - accuracy: 0.9914 - val_loss: 0.0369 - val_accuracy: 0.9756\n",
      "Epoch 3/10\n",
      "293/293 [==============================] - 264s 901ms/step - loss: 0.0070 - accuracy: 0.9981 - val_loss: 0.0483 - val_accuracy: 0.9776\n",
      "Epoch 4/10\n",
      "293/293 [==============================] - 265s 903ms/step - loss: 0.0016 - accuracy: 0.9999 - val_loss: 8.0030e-04 - val_accuracy: 0.9779\n",
      "Epoch 5/10\n",
      "293/293 [==============================] - 265s 903ms/step - loss: 6.9251e-04 - accuracy: 0.9999 - val_loss: 2.1552e-04 - val_accuracy: 0.9781\n",
      "Epoch 6/10\n",
      "293/293 [==============================] - 265s 903ms/step - loss: 4.5250e-04 - accuracy: 0.9999 - val_loss: 0.0044 - val_accuracy: 0.9781\n",
      "Epoch 7/10\n",
      "293/293 [==============================] - 265s 903ms/step - loss: 3.2842e-04 - accuracy: 1.0000 - val_loss: 0.1331 - val_accuracy: 0.9778\n",
      "Epoch 8/10\n",
      "293/293 [==============================] - 265s 904ms/step - loss: 2.5439e-04 - accuracy: 1.0000 - val_loss: 0.0801 - val_accuracy: 0.9778\n",
      "Epoch 9/10\n",
      "293/293 [==============================] - 265s 904ms/step - loss: 2.0655e-04 - accuracy: 1.0000 - val_loss: 0.0836 - val_accuracy: 0.9778\n",
      "Epoch 10/10\n",
      "293/293 [==============================] - 265s 903ms/step - loss: 1.7215e-04 - accuracy: 1.0000 - val_loss: 0.0102 - val_accuracy: 0.9776\n",
      "> 97.763\n",
      "{'val_loss': [0.08177998661994934, 0.03694447502493858, 0.04830008000135422, 0.0008003002731129527, 0.00021552010730374604, 0.004438998177647591, 0.13307857513427734, 0.08005663007497787, 0.08361046761274338, 0.010249806568026543], 'val_accuracy': [0.9754085540771484, 0.9755671620368958, 0.9776297211647034, 0.9779469966888428, 0.9781056642532349, 0.9781056642532349, 0.9777883291244507, 0.9777883291244507, 0.9777883291244507, 0.9776297211647034], 'loss': [0.3002597340667058, 0.025057714319129724, 0.006992505332752787, 0.0015613677152240605, 0.0006945360647925934, 0.0004538303603906173, 0.00032936045766030235, 0.00025513825004815896, 0.00020715076417570234, 0.00017194105634200127], 'accuracy': [0.96432585, 0.991389, 0.99807453, 0.99994653, 0.99994653, 0.99994653, 1.0, 1.0, 1.0, 1.0]}\n"
     ]
    },
    {
     "data": {
      "image/png": "[encoded data removed]",
      "text/plain": [
       "<Figure size 720x360 with 2 Axes>"
      ]
     },
     "metadata": {
      "needs_background": "light"
     },
     "output_type": "display_data"
    }
   ],
   "source": [
    "# punto de entrada, ejecutar la prueba\n",
    "run_test_harness()"
   ]
  },
  {
   "cell_type": "markdown",
   "metadata": {},
   "source": [
    "<img src=\"modelo final con vgg16-plot.png\">"
   ]
  },
  {
   "cell_type": "markdown",
   "metadata": {},
   "source": [
    "## Modelo final"
   ]
  },
  {
   "cell_type": "markdown",
   "metadata": {},
   "source": [
    "Un modelo final generalmente se ajusta a todos los datos disponibles, como la combinación de todos los conjuntos de datos de pruebas y entrenamiento.\n",
    "\n",
    "Para llevar acabo lo anterior debemos de crear una nueva carpeta para nuestro dataset final. en el cual vamos a tener todas las iamgenes de gatos y perros, pero sin tener la separacion de \"train\" o de \"test\", pero para esta prueba vamos a hacer uso unicamente de las imagenes que tenemos labels, que en este caso son las imagenes de entrenamiento.\n"
   ]
  },
  {
   "cell_type": "code",
   "execution_count": 8,
   "metadata": {},
   "outputs": [],
   "source": [
    "# organizar el dataset en una estructura util\n",
    "from os import makedirs\n",
    "from os import listdir\n",
    "from shutil import copyfile\n",
    "# crear directorios\n",
    "dataset_home = 'finalize_dogs_vs_cats/'\n",
    "# crear etiquita de subdirectorios\n",
    "labeldirs = ['dogs/', 'cats/']\n",
    "for labldir in labeldirs:\n",
    "    newdir = dataset_home + labldir\n",
    "    makedirs(newdir, exist_ok=True)\n",
    "# copiar training data en los diectorios\n",
    "src_directory = 'train/'\n",
    "for file in listdir(src_directory):\n",
    "    src = src_directory + '/' + file\n",
    "    if file.startswith('cat'):\n",
    "        dst = dataset_home + 'cats/'x|  + file\n",
    "        copyfile(src, dst)\n",
    "    elif file.startswith('dog'):\n",
    "        dst = dataset_home + 'dogs/'  + file\n",
    "        copyfile(src, dst)"
   ]
  },
  {
   "cell_type": "code",
   "execution_count": 12,
   "metadata": {},
   "outputs": [],
   "source": [
    "# En esta versión de codigo se guarda el modelo para posteriormente seguir procesando\n",
    "from keras.applications.vgg16 import VGG16\n",
    "from keras.models import Model\n",
    "from keras.layers import Dense\n",
    "from keras.layers import Flatten\n",
    "from keras.optimizers import SGD\n",
    "from keras.preprocessing.image import ImageDataGenerator\n",
    "import numpy as np\n"
   ]
  },
  {
   "cell_type": "code",
   "execution_count": 10,
   "metadata": {},
   "outputs": [],
   "source": [
    "\n",
    "# definir un modelo de cnn\n",
    "def define_model():\n",
    "    # cargar el modelo (En este caso se estar cargando el modelo existente de vgg16, el cual sera extraido de github)\n",
    "    model = VGG16(include_top=False, input_shape=(224, 224, 3))\n",
    "    # marcar capas cargadas como no entrenables\n",
    "    for layer in model.layers:\n",
    "        layer.trainable = False\n",
    "    # agregar nuevas capas de clasificacion\n",
    "    flat1 = Flatten()(model.layers[-1].output)\n",
    "    class1 = Dense(128, activation='relu', kernel_initializer='he_uniform')(flat1)\n",
    "    output = Dense(1, activation='sigmoid')(class1)\n",
    "    # definir nuevo modelo\n",
    "    model = Model(inputs=model.inputs, outputs=output)\n",
    "    # compilar modelo\n",
    "    opt = SGD(lr=0.001, momentum=0.9)\n",
    "    model.compile(optimizer=opt, loss='binary_crossentropy', metrics=['accuracy'])\n",
    "    return model\n"
   ]
  },
  {
   "cell_type": "code",
   "execution_count": 11,
   "metadata": {},
   "outputs": [],
   "source": [
    "\n",
    "# ejecutar el test para evaluar el modelo\n",
    "def run_test_harness():\n",
    "# definir model\n",
    "    model = define_model()\n",
    "    # crear generador de datos\n",
    "    datagen = ImageDataGenerator(featurewise_center=True)\n",
    "    # especificar valores medios de imagenet para centrar\n",
    "    datagen.mean = [123.68, 116.779, 103.939]\n",
    "    # preparar el iterador\n",
    "    train_it = datagen.flow_from_directory('finalize_dogs_vs_cats/',\n",
    "        class_mode='binary', batch_size=64, target_size=(224, 224))\n",
    "    # entrenar modelo\n",
    "    history = model.fit_generator(train_it, steps_per_epoch=len(train_it), epochs=10, verbose=0)\n",
    "    # guardar modelo\n",
    "    model.save('final_model.h5')\n",
    "\n"
   ]
  },
  {
   "cell_type": "code",
   "execution_count": 12,
   "metadata": {},
   "outputs": [
    {
     "name": "stdout",
     "output_type": "stream",
     "text": [
      "Found 25000 images belonging to 2 classes.\n"
     ]
    }
   ],
   "source": [
    "# ejecutar todo el modelo con las pruebas\n",
    "run_test_harness()"
   ]
  },
  {
   "cell_type": "code",
   "execution_count": 2,
   "metadata": {},
   "outputs": [],
   "source": [
    "# Hacer una precccion para una nueva imagen\n",
    "from keras.preprocessing.image import load_img\n",
    "from keras.preprocessing.image import img_to_array\n",
    "from keras.models import load_model\n",
    "from keras.preprocessing import image\n",
    "\n"
   ]
  },
  {
   "cell_type": "code",
   "execution_count": 3,
   "metadata": {},
   "outputs": [],
   "source": [
    "folder_path = 'predict/'\n",
    "img_width, img_height = 224, 224\n",
    "model = load_model('final_model.h5')"
   ]
  },
  {
   "cell_type": "code",
   "execution_count": 4,
   "metadata": {},
   "outputs": [],
   "source": [
    "# cargar y preparar la iamgen\n",
    "def load_image(filename):\n",
    "    # cargar la imagen\n",
    "    img = load_img(filename, target_size=(224, 224))\n",
    "    # convertir a arreglo\n",
    "    img = img_to_array(img)\n",
    "    # rehacer en forma de una muestra simple con 3 canales\n",
    "    img = img.reshape(1, 224, 224, 3)\n",
    "    # centrar los datos de pixel\n",
    "    img = img.astype('float32')\n",
    "    img = img - [123.68, 116.779, 103.939]\n",
    "    return img\n",
    "\n"
   ]
  },
  {
   "cell_type": "code",
   "execution_count": null,
   "metadata": {},
   "outputs": [],
   "source": []
  },
  {
   "cell_type": "code",
   "execution_count": 36,
   "metadata": {},
   "outputs": [],
   "source": [
    "# cargar la imagen y predecir su clase\n",
    "def run_example():\n",
    "    # cargar la iamgen\n",
    "    img = load_image('predict/negrita.jpg')\n",
    "    # cargar el modelo\n",
    "    model = load_model('final_model.h5')\n",
    "    # predecir su clase\n",
    "    result = model.predict(img)\n",
    "    model.summary()\n",
    "    print()\n",
    "    print(result[0])\n",
    "\n"
   ]
  },
  {
   "cell_type": "code",
   "execution_count": 6,
   "metadata": {},
   "outputs": [],
   "source": [
    "# cargar la imagen y predecir su clase\n",
    "def run_exampleCat():\n",
    "    # cargar la iamgen\n",
    "    img = load_image('predict/gatito de prueba.jpg')\n",
    "    # cargar el modelo\n",
    "    model = load_model('final_model.h5')\n",
    "    # predecir su clase\n",
    "    result = model.predict(img)\n",
    "    print(result[0])\n"
   ]
  },
  {
   "cell_type": "code",
   "execution_count": null,
   "metadata": {},
   "outputs": [],
   "source": [
    "run_exampleCat()"
   ]
  },
  {
   "cell_type": "code",
   "execution_count": 9,
   "metadata": {},
   "outputs": [
    {
     "name": "stdout",
     "output_type": "stream",
     "text": [
      "\n",
      "[1.]\n"
     ]
    }
   ],
   "source": [
    "# entry point, run the example\n",
    "run_example()"
   ]
  },
  {
   "cell_type": "markdown",
   "metadata": {},
   "source": [
    "# Pruebas"
   ]
  },
  {
   "cell_type": "code",
   "execution_count": 11,
   "metadata": {},
   "outputs": [],
   "source": [
    "import os\n",
    "os.environ['HDF5_DISABLE_VERSION_CHECK']='2'\n",
    "from keras.models import load_model\n",
    "from keras.preprocessing import image\n",
    "import numpy as np\n"
   ]
  },
  {
   "cell_type": "code",
   "execution_count": 12,
   "metadata": {},
   "outputs": [],
   "source": [
    "folder_path = 'predict/'\n",
    "# path to model\n",
    "model_path = 'final_model.h5'"
   ]
  },
  {
   "cell_type": "code",
   "execution_count": 13,
   "metadata": {},
   "outputs": [],
   "source": [
    "img_width, img_height = 224, 224"
   ]
  },
  {
   "cell_type": "code",
   "execution_count": 14,
   "metadata": {},
   "outputs": [],
   "source": [
    "model = load_model('final_model.h5')"
   ]
  },
  {
   "cell_type": "markdown",
   "metadata": {},
   "source": [
    "# cargar y preparar la iamgen"
   ]
  },
  {
   "cell_type": "code",
   "execution_count": 15,
   "metadata": {},
   "outputs": [],
   "source": [
    "images = []\n",
    "for img in os.listdir(folder_path):\n",
    "    img = os.path.join(folder_path, img)\n",
    "    img = image.load_img(img, target_size=(img_width, img_height))\n",
    "    img = image.img_to_array(img)\n",
    "    #img = np.expand_dims(img, axis=0)\n",
    "    # rehacer en forma de una muestra simple con 3 canales\n",
    "    img = img.reshape(1, 224, 224, 3)\n",
    "    # centrar los datos de pixel\n",
    "    img = img.astype('float32')\n",
    "    img = img - [123.68, 116.779, 103.939]\n",
    "    images.append(img)"
   ]
  },
  {
   "cell_type": "code",
   "execution_count": 16,
   "metadata": {},
   "outputs": [],
   "source": [
    "# stack up images list to pass for prediction\n",
    "images = np.vstack(images)"
   ]
  },
  {
   "cell_type": "code",
   "execution_count": 17,
   "metadata": {},
   "outputs": [],
   "source": [
    "pred = model.predict(images)"
   ]
  },
  {
   "cell_type": "code",
   "execution_count": 18,
   "metadata": {},
   "outputs": [
    {
     "name": "stdout",
     "output_type": "stream",
     "text": [
      "[array([0.01202452], dtype=float32), array([0.00029418], dtype=float32), array([0.], dtype=float32), array([1.4901161e-07], dtype=float32), array([1.], dtype=float32), array([1.], dtype=float32), array([1.], dtype=float32), array([1.], dtype=float32)]\n"
     ]
    }
   ],
   "source": [
    "print(list(pred))"
   ]
  },
  {
   "cell_type": "code",
   "execution_count": 19,
   "metadata": {},
   "outputs": [
    {
     "name": "stdout",
     "output_type": "stream",
     "text": [
      "0.012024522\n",
      "0.00029417872\n",
      "0.0\n",
      "1.4901161e-07\n",
      "1.0\n",
      "1.0\n",
      "1.0\n",
      "1.0\n"
     ]
    }
   ],
   "source": [
    "for i in range(0, len(pred)):\n",
    "    print(pred[i][0])"
   ]
  },
  {
   "cell_type": "code",
   "execution_count": 20,
   "metadata": {},
   "outputs": [
    {
     "name": "stdout",
     "output_type": "stream",
     "text": [
      "0.012024522\n"
     ]
    }
   ],
   "source": [
    "print(pred[0][0])"
   ]
  },
  {
   "cell_type": "code",
   "execution_count": 22,
   "metadata": {},
   "outputs": [
    {
     "name": "stdout",
     "output_type": "stream",
     "text": [
      "1.0\n"
     ]
    }
   ],
   "source": [
    "print(pred[7][0])"
   ]
  },
  {
   "cell_type": "code",
   "execution_count": 35,
   "metadata": {},
   "outputs": [
    {
     "name": "stdout",
     "output_type": "stream",
     "text": [
      "[0, 0, 0, 1, 1, 1, 1, 1]\n"
     ]
    }
   ],
   "source": [
    "trDC = [0,0,0,1,1,1,1,1]\n",
    "print(trDC)"
   ]
  },
  {
   "cell_type": "code",
   "execution_count": 33,
   "metadata": {},
   "outputs": [
    {
     "name": "stdout",
     "output_type": "stream",
     "text": [
      "Predicted  0  1  __all__\n",
      "Actual                  \n",
      "0          3  0        3\n",
      "1          5  0        5\n",
      "__all__    8  0        8\n"
     ]
    }
   ],
   "source": [
    "predictions = np.argmax(pred, 1)\n",
    "#print(\"predictions\", len(predictions))\n",
    "#test_labs = np.argmax(test_labels, 1)\n",
    "#print(len(test_labs))\n",
    "from pandas import DataFrame\n",
    "from pandas_ml import ConfusionMatrix\n",
    "from plotmatrix import pretty_plot_confusion_matrix, PlotMatrix\n",
    "conf_matrix = ConfusionMatrix(trDC, predictions)\n",
    "\n",
    "print(conf_matrix)\n",
    "\n"
   ]
  },
  {
   "cell_type": "code",
   "execution_count": 34,
   "metadata": {
    "scrolled": true
   },
   "outputs": [
    {
     "data": {
      "image/png": "[encoded data removed]",
      "text/plain": [
       "<Figure size 720x720 with 1 Axes>"
      ]
     },
     "metadata": {
      "needs_background": "light"
     },
     "output_type": "display_data"
    }
   ],
   "source": [
    "# plot confusion matrix\n",
    "CM = conf_matrix.to_array()\n",
    "cf = DataFrame(CM)\n",
    "pretty_plot_confusion_matrix(cf, annot=True, pred_val_axis='x', figsize=(10,10), fz=12)"
   ]
  }
 ],
 "metadata": {
  "kernelspec": {
   "display_name": "Python 3",
   "language": "python",
   "name": "python3"
  },
  "language_info": {
   "codemirror_mode": {
    "name": "ipython",
    "version": 3
   },
   "file_extension": ".py",
   "mimetype": "text/x-python",
   "name": "python",
   "nbconvert_exporter": "python",
   "pygments_lexer": "ipython3",
   "version": "3.6.7"
  }
 },
 "nbformat": 4,
 "nbformat_minor": 4
}